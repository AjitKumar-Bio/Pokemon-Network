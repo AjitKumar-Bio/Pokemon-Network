{
 "cells": [
  {
   "cell_type": "code",
   "execution_count": 5,
   "metadata": {},
   "outputs": [
    {
     "ename": "IndexError",
     "evalue": "list index out of range",
     "output_type": "error",
     "traceback": [
      "\u001b[1;31m---------------------------------------------------------------------------\u001b[0m",
      "\u001b[1;31mIndexError\u001b[0m                                Traceback (most recent call last)",
      "Cell \u001b[1;32mIn[5], line 27\u001b[0m\n\u001b[0;32m     25\u001b[0m     stat_values \u001b[39m=\u001b[39m []\n\u001b[0;32m     26\u001b[0m     \u001b[39mfor\u001b[39;00m stat \u001b[39min\u001b[39;00m stats:\n\u001b[1;32m---> 27\u001b[0m         stat_values\u001b[39m.\u001b[39mappend(pokemon[\u001b[39m'\u001b[39;49m\u001b[39mstats\u001b[39;49m\u001b[39m'\u001b[39;49m][stats\u001b[39m.\u001b[39;49mindex(stat)][\u001b[39m'\u001b[39m\u001b[39mbase_stat\u001b[39m\u001b[39m'\u001b[39m])\n\u001b[0;32m     28\u001b[0m     pokemon_stats[name] \u001b[39m=\u001b[39m stat_values\n\u001b[0;32m     30\u001b[0m \u001b[39m# Compute the similarity matrix based on attributes using cosine similarity\u001b[39;00m\n",
      "\u001b[1;31mIndexError\u001b[0m: list index out of range"
     ]
    }
   ],
   "source": [
    "import json\n",
    "import numpy as np\n",
    "from sklearn.metrics.pairwise import cosine_similarity\n",
    "\n",
    "# Load the Pokemon data from file\n",
    "with open('pokedex_with_images.json', 'r') as f:\n",
    "    pokemon_data = json.load(f)\n",
    "\n",
    "# Define the attributes and stats to use for similarity calculation\n",
    "attributes = ['height', 'weight']\n",
    "stats = ['hp', 'attack', 'defense', 'special-attack', 'special-defense', 'speed']\n",
    "\n",
    "# Create a dictionary to store the attribute and stat values for each Pokemon\n",
    "pokemon_attributes = {}\n",
    "pokemon_stats = {}\n",
    "\n",
    "for pokemon in pokemon_data:\n",
    "    name = pokemon['name']\n",
    "    # Add attributes\n",
    "    attribute_values = []\n",
    "    for attribute in attributes:\n",
    "        attribute_values.append(pokemon[attribute])\n",
    "    pokemon_attributes[name] = attribute_values\n",
    "    # Add stats\n",
    "    stat_values = []\n",
    "    for stat in stats:\n",
    "        stat_values.append(pokemon['stats'][stats.index(stat)]['base_stat'])\n",
    "    pokemon_stats[name] = stat_values\n",
    "\n",
    "# Compute the similarity matrix based on attributes using cosine similarity\n",
    "attribute_similarity_matrix = cosine_similarity(list(pokemon_attributes.values()))\n",
    "\n",
    "# Compute the similarity matrix based on stats using cosine similarity\n",
    "stat_similarity_matrix = cosine_similarity(list(pokemon_stats.values()))\n",
    "\n",
    "# Combine the similarity matrices with equal weights to get the final similarity matrix\n",
    "similarity_matrix = (attribute_similarity_matrix + stat_similarity_matrix) / 2\n",
    "\n",
    "# Print the similarity matrix\n",
    "print(similarity_matrix)\n"
   ]
  },
  {
   "cell_type": "code",
   "execution_count": null,
   "metadata": {},
   "outputs": [],
   "source": []
  },
  {
   "cell_type": "code",
   "execution_count": null,
   "metadata": {},
   "outputs": [],
   "source": []
  }
 ],
 "metadata": {
  "kernelspec": {
   "display_name": "Python 3",
   "language": "python",
   "name": "python3"
  },
  "language_info": {
   "codemirror_mode": {
    "name": "ipython",
    "version": 3
   },
   "file_extension": ".py",
   "mimetype": "text/x-python",
   "name": "python",
   "nbconvert_exporter": "python",
   "pygments_lexer": "ipython3",
   "version": "3.11.2"
  },
  "orig_nbformat": 4
 },
 "nbformat": 4,
 "nbformat_minor": 2
}
