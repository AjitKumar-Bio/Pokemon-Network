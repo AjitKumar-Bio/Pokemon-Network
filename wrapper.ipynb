{
 "cells": [
  {
   "cell_type": "code",
   "execution_count": 1,
   "metadata": {},
   "outputs": [
    {
     "ename": "ModuleNotFoundError",
     "evalue": "No module named '_curses'",
     "output_type": "error",
     "traceback": [
      "\u001b[1;31m---------------------------------------------------------------------------\u001b[0m",
      "\u001b[1;31mModuleNotFoundError\u001b[0m                       Traceback (most recent call last)",
      "Cell \u001b[1;32mIn[1], line 1\u001b[0m\n\u001b[1;32m----> 1\u001b[0m \u001b[39mimport\u001b[39;00m \u001b[39mcurses\u001b[39;00m\n\u001b[0;32m      2\u001b[0m \u001b[39mimport\u001b[39;00m \u001b[39msubprocess\u001b[39;00m\n\u001b[0;32m      4\u001b[0m \u001b[39mdef\u001b[39;00m \u001b[39mmain\u001b[39m(stdscr):\n\u001b[0;32m      5\u001b[0m     \u001b[39m# Clear screen\u001b[39;00m\n",
      "File \u001b[1;32mC:\\Program Files\\WindowsApps\\PythonSoftwareFoundation.Python.3.11_3.11.752.0_x64__qbz5n2kfra8p0\\Lib\\curses\\__init__.py:13\u001b[0m\n\u001b[0;32m      1\u001b[0m \u001b[39m\"\"\"curses\u001b[39;00m\n\u001b[0;32m      2\u001b[0m \n\u001b[0;32m      3\u001b[0m \u001b[39mThe main package for curses support for Python.  Normally used by importing\u001b[39;00m\n\u001b[1;32m   (...)\u001b[0m\n\u001b[0;32m     10\u001b[0m \n\u001b[0;32m     11\u001b[0m \u001b[39m\"\"\"\u001b[39;00m\n\u001b[1;32m---> 13\u001b[0m \u001b[39mfrom\u001b[39;00m \u001b[39m_curses\u001b[39;00m \u001b[39mimport\u001b[39;00m \u001b[39m*\u001b[39m\n\u001b[0;32m     14\u001b[0m \u001b[39mimport\u001b[39;00m \u001b[39mos\u001b[39;00m \u001b[39mas\u001b[39;00m \u001b[39m_os\u001b[39;00m\n\u001b[0;32m     15\u001b[0m \u001b[39mimport\u001b[39;00m \u001b[39msys\u001b[39;00m \u001b[39mas\u001b[39;00m \u001b[39m_sys\u001b[39;00m\n",
      "\u001b[1;31mModuleNotFoundError\u001b[0m: No module named '_curses'"
     ]
    }
   ],
   "source": [
    "import curses\n",
    "import subprocess\n",
    "\n",
    "def main(stdscr):\n",
    "    # Clear screen\n",
    "    stdscr.clear()\n",
    "\n",
    "    # Add some text to the screen\n",
    "    stdscr.addstr(\"Welcome to my terminal wrapper!\\n\\n\")\n",
    "\n",
    "    # Refresh the screen\n",
    "    stdscr.refresh()\n",
    "\n",
    "    # Initialize variables\n",
    "    current_dir = \"/\"\n",
    "    command = \"\"\n",
    "    history = []\n",
    "\n",
    "    # Function to run commands\n",
    "    def run_command(command):\n",
    "        # Add command to history\n",
    "        history.append(command)\n",
    "\n",
    "        # Parse command\n",
    "        parts = command.split(\" \")\n",
    "\n",
    "        # Check for cd command\n",
    "        if parts[0] == \"cd\":\n",
    "            global current_dir\n",
    "            try:\n",
    "                # Change directory\n",
    "                current_dir = subprocess.check_output([\"cd\", parts[1]], stderr=subprocess.STDOUT, shell=True).decode().strip()\n",
    "            except subprocess.CalledProcessError as e:\n",
    "                stdscr.addstr(\"Error: \" + e.output.decode() + \"\\n\")\n",
    "        else:\n",
    "            # Run command\n",
    "            try:\n",
    "                result = subprocess.check_output(command, stderr=subprocess.STDOUT, shell=True).decode()\n",
    "                stdscr.addstr(result)\n",
    "            except subprocess.CalledProcessError as e:\n",
    "                stdscr.addstr(\"Error: \" + e.output.decode() + \"\\n\")\n",
    "\n",
    "        # Refresh the screen\n",
    "        stdscr.refresh()\n",
    "\n",
    "    # Main loop\n",
    "    while True:\n",
    "        # Display prompt\n",
    "        stdscr.addstr(current_dir + \"> \" + command)\n",
    "\n",
    "        # Wait for user input\n",
    "        key = stdscr.getch()\n",
    "\n",
    "        # Process user input\n",
    "        if key == curses.KEY_BACKSPACE or key == 127:  # Handle backspace key\n",
    "            command = command[:-1]\n",
    "        elif key == curses.KEY_ENTER or key == 10 or key == 13:  # Handle enter key\n",
    "            stdscr.addstr(\"\\n\")\n",
    "            run_command(command)\n",
    "            command = \"\"\n",
    "        elif key == curses.KEY_UP:  # Handle up arrow key\n",
    "            if len(history) > 0:\n",
    "                command = history[-1]\n",
    "                history = history[:-1]\n",
    "        elif key == curses.KEY_LEFT or key == curses.KEY_RIGHT or key == curses.KEY_DOWN:  # Handle arrow keys\n",
    "            pass\n",
    "        else:  # Handle other keys\n",
    "            command += chr(key)\n",
    "\n",
    "        # Refresh the screen\n",
    "        stdscr.refresh()\n",
    "\n",
    "# Initialize curses\n",
    "curses.wrapper(main)\n"
   ]
  },
  {
   "cell_type": "code",
   "execution_count": 41,
   "metadata": {},
   "outputs": [
    {
     "name": "stdout",
     "output_type": "stream",
     "text": [
      "[1, 9, 14, 5, 10, 47, 50, 118, 1147]\n"
     ]
    }
   ],
   "source": [
    "number = [1,9,5,14,5,10,47,50,118,1147]\n",
    "for num in number:\n",
    "    if number.count(num)>1:\n",
    "        number.remove(num)\n",
    "    continue\n",
    "print(number)\n",
    "\n"
   ]
  }
 ],
 "metadata": {
  "kernelspec": {
   "display_name": "Python 3",
   "language": "python",
   "name": "python3"
  },
  "language_info": {
   "codemirror_mode": {
    "name": "ipython",
    "version": 3
   },
   "file_extension": ".py",
   "mimetype": "text/x-python",
   "name": "python",
   "nbconvert_exporter": "python",
   "pygments_lexer": "ipython3",
   "version": "3.11.2"
  },
  "orig_nbformat": 4
 },
 "nbformat": 4,
 "nbformat_minor": 2
}
